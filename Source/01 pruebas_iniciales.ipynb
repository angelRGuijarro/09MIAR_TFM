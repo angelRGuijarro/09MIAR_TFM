{
 "cells": [
  {
   "cell_type": "markdown",
   "metadata": {},
   "source": [
    "# PRUEBAS INICIALES\n",
    "Para ver la eficacia del modelo pre-entrenado, sin haber hecho ningún ajuste sobre los datos particulares. Registramos los resultados en MLflow"
   ]
  },
  {
   "cell_type": "code",
   "execution_count": 1,
   "metadata": {},
   "outputs": [],
   "source": [
    "from transformers import pipeline\n",
    "from datasets import load_dataset\n",
    "import torch\n",
    "import json\n",
    "from evaluate import compute_exact,compute_f1,get_raw_scores_by_example,get_raw_scores_by_prediction\n",
    "from statistics import mean\n",
    "import mlflow\n",
    "import pprint\n",
    "import time\n",
    "import requests"
   ]
  },
  {
   "cell_type": "code",
   "execution_count": 2,
   "metadata": {},
   "outputs": [],
   "source": [
    "# Realizaremos las pruebas iniciales con el conjunto de test, cuando se haya concluido el entrenamiento del modelo ajustado (usando train y validation) volveremos a tomar la medida con este conjunto de test. Esto nos servirá para ver si efectivamente el modelo ajustado ha mejorado en algún modo el rendimiento del modelo pre-entrenado.\n",
    "# Datos y modelo\n",
    "dataset = load_dataset('..\\Dataset\\Escrituras','QA',trust_remote_code=True,split='test')"
   ]
  },
  {
   "cell_type": "code",
   "execution_count": 3,
   "metadata": {},
   "outputs": [],
   "source": [
    "model_QA = 'PlanTL-GOB-ES/roberta-large-bne-sqac' \n",
    "# Tamaño de lote para la inferenca\n",
    "batch_size = 512"
   ]
  },
  {
   "cell_type": "code",
   "execution_count": 4,
   "metadata": {},
   "outputs": [],
   "source": [
    "SERVIDOR_MLFLOW = 'http://localhost:5000'\n",
    "# Debo comprobar si está ejecutando el servidor MLflow, en otro caso se demora la ejecución y acaba dando un error\n",
    "def mlflow_en_ejecucion(url):\n",
    "    try:\n",
    "        response = requests.get(url)        \n",
    "        # Si el servidor está en ejecución, deberíamos recibir un código de estado HTTP 200\n",
    "        return response.status_code == 200\n",
    "    except requests.exceptions.ConnectionError:\n",
    "        # Si no se puede establecer una conexión, asumimos que el servidor no está en ejecución\n",
    "        return False\n",
    "    \n",
    "assert mlflow_en_ejecucion(SERVIDOR_MLFLOW), f\"El servidor MLflow ({SERVIDOR_MLFLOW}) no está en ejecución. Lance 'mlflow ui' desde el terminal.\""
   ]
  },
  {
   "cell_type": "code",
   "execution_count": 5,
   "metadata": {},
   "outputs": [],
   "source": [
    "# Servidor de seguimiento\n",
    "mlflow.set_tracking_uri(SERVIDOR_MLFLOW)\n",
    "mlflow.set_experiment(\"Valoración inicial\")\n",
    "# Impresión elegante de datos en la terminal\n",
    "pp = pprint.PrettyPrinter(width=150)"
   ]
  },
  {
   "cell_type": "code",
   "execution_count": 6,
   "metadata": {},
   "outputs": [
    {
     "name": "stdout",
     "output_type": "stream",
     "text": [
      "DatasetInfo(description='',\n",
      "            citation='',\n",
      "            homepage='',\n",
      "            license='',\n",
      "            features={'answers': Sequence(feature={'answer_start': Value(dtype='int32', id=None), 'text': Value(dtype='string', id=None)},\n",
      "                                          length=-1,\n",
      "                                          id=None),\n",
      "                      'context': Value(dtype='string', id=None),\n",
      "                      'id': Value(dtype='string', id=None),\n",
      "                      'question': Value(dtype='string', id=None)},\n",
      "            post_processed=None,\n",
      "            supervised_keys=None,\n",
      "            task_templates=None,\n",
      "            builder_name='escrituras',\n",
      "            dataset_name='escrituras',\n",
      "            config_name='QA',\n",
      "            version=0.0.0,\n",
      "            splits={'test': SplitInfo(name='test', num_bytes=11932583, num_examples=8028, shard_lengths=None, dataset_name='escrituras'),\n",
      "                    'train': SplitInfo(name='train', num_bytes=38680271, num_examples=25688, shard_lengths=None, dataset_name='escrituras'),\n",
      "                    'validation': SplitInfo(name='validation', num_bytes=9580657, num_examples=6424, shard_lengths=None, dataset_name='escrituras')},\n",
      "            download_checksums={'QA_test.json': {'checksum': None, 'num_bytes': 3928192},\n",
      "                                'QA_train.json': {'checksum': None, 'num_bytes': 12708698},\n",
      "                                'QA_validation.json': {'checksum': None, 'num_bytes': 3153534}},\n",
      "            download_size=19790424,\n",
      "            post_processing_size=None,\n",
      "            dataset_size=60193511,\n",
      "            size_in_bytes=79983935)\n"
     ]
    }
   ],
   "source": [
    "# Un vistazo a los datos que estamos testeando\n",
    "pp.pprint(dataset.info)"
   ]
  },
  {
   "cell_type": "code",
   "execution_count": 7,
   "metadata": {},
   "outputs": [
    {
     "name": "stdout",
     "output_type": "stream",
     "text": [
      "True\n"
     ]
    }
   ],
   "source": [
    "# Comprobación de si está bien instalado torch y tenemos una GPU\n",
    "print(torch.cuda.is_available())"
   ]
  },
  {
   "cell_type": "markdown",
   "metadata": {},
   "source": [
    "También he visto que hay varias maneras de realizar las inferencias o consultas sobre el modelo, usando los pipelines. Quiero ver si hay alguna diferencia en el rendimiento. Probaré con distintas formas y cambiaré el tamaño del lote para ver si consigo un rendimiento óptimo."
   ]
  },
  {
   "cell_type": "markdown",
   "metadata": {},
   "source": [
    "### Primera prueba"
   ]
  },
  {
   "cell_type": "code",
   "execution_count": null,
   "metadata": {},
   "outputs": [],
   "source": [
    "# Sólo es válida la primera ejecución de esta prueba, ya que HF dataset guarda en caché el map de esta función, si volvemos a llamarla con los mismos parámetros devuelve los resultados de la caché (tardando unos segundos en lugar de algunos minutos)\n",
    "with mlflow.start_run(run_name=\"Map sobre test\", description=\"Predicciones usando map sobre el dataset de test\"):\n",
    "    time_0 = time.time()\n",
    "    # Definición del pipeline y la función de mapeo\n",
    "    consulta_map =  pipeline(\"question-answering\", model=model_QA, device=0 if torch.cuda.is_available() else None, batch_size=batch_size)\n",
    "    def realiza_prediccion(ejemplo):\n",
    "        return {'prediccion': consulta_map({'question':ejemplo['question'], 'context':ejemplo['context']})}\n",
    "    # Ejecución y cálculo de métricas\n",
    "    # ejemplos = dataset.map(lambda ejemplo: {'prediccion': consulta_map({'question':ejemplo['question'], 'context':ejemplo['context']})})\n",
    "    ejemplos = dataset.map(realiza_prediccion)\n",
    "    exact_scores, f1_scores  = get_raw_scores_by_example(ejemplos)\n",
    "    f1_mean = mean(f1_scores.values())\n",
    "    exact_mean = mean(exact_scores.values())\n",
    "    \n",
    "    f_time = time.time()-time_0\n",
    "    mlflow.log_param('batch_size', batch_size)    \n",
    "    mlflow.log_metric('f1', f1_mean)\n",
    "    mlflow.log_metric('exact', exact_mean)\n",
    "    mlflow.log_metric('process_time',f_time)\n",
    "    print(len(f1_scores), 'f1:', f1_mean)\n",
    "    print(len(exact_scores), 'exact:', exact_mean)\n",
    "\n",
    "# Libero la memoria por si afecta a los procesos posteriores\n",
    "del ejemplos"
   ]
  },
  {
   "cell_type": "markdown",
   "metadata": {},
   "source": [
    "### Segunda manera"
   ]
  },
  {
   "cell_type": "code",
   "execution_count": 8,
   "metadata": {},
   "outputs": [
    {
     "name": "stdout",
     "output_type": "stream",
     "text": [
      "8028 f1: 0.4012164436158013\n",
      "8028 exact: 0.13789237668161436\n"
     ]
    }
   ],
   "source": [
    "\n",
    "with mlflow.start_run(run_name=\"Pipeline sobre dataset\",description=\"Predicciones usando columnas del dataset directamente sobre el pipline\"):\n",
    "    time_0 = time.time()\n",
    "    # Definición del pipeline\n",
    "    consulta_ds =  pipeline(\"question-answering\", model=model_QA, device=0 if torch.cuda.is_available() else None, batch_size=batch_size)    \n",
    "    # Ejecución y cálculo de métricas\n",
    "    predicciones = consulta_ds(question=dataset['question'], context=dataset['context'])\n",
    "    exact_scores, f1_scores  = get_raw_scores_by_prediction(dataset,predicciones)\n",
    "    f1_mean = mean(f1_scores.values())\n",
    "    exact_mean = mean(exact_scores.values())\n",
    "    \n",
    "    f_time = time.time()-time_0\n",
    "    mlflow.log_param('batch_size', batch_size)\n",
    "    mlflow.log_metric('f1', f1_mean)\n",
    "    mlflow.log_metric('exact', exact_mean)\n",
    "    mlflow.log_metric('process_time',f_time)\n",
    "    print(len(f1_scores), 'f1:', f1_mean)\n",
    "    print(len(exact_scores), 'exact:', exact_mean)\n",
    "\n",
    "# Libero la memoria por si afecta a los procesos posteriores\n",
    "del predicciones"
   ]
  },
  {
   "cell_type": "markdown",
   "metadata": {},
   "source": [
    "### Tercera manera"
   ]
  },
  {
   "cell_type": "code",
   "execution_count": null,
   "metadata": {},
   "outputs": [],
   "source": [
    "with mlflow.start_run(run_name=\"Pipeline sobre lista pregunta-contexto\",description=\"Predicciones usando una lista de preguntas-contexto extraídas del dataset\"):\n",
    "    time_0 = time.time()\n",
    "    # Definición del pipeline y el conjunto de datos\n",
    "    qc_dataset_test = [{'question':q, 'context':c} for q,c in zip(dataset['question'],dataset['context'])]\n",
    "    consulta_qc = pipeline(\"question-answering\", model=model_QA, device=0 if torch.cuda.is_available() else None, batch_size=batch_size)\n",
    "    # Ejecución y cálculo de métricas\n",
    "    predicciones = consulta_qc(qc_dataset_test)\n",
    "    exact_scores, f1_scores  = get_raw_scores_by_prediction(dataset,predicciones)\n",
    "    f1_mean = mean(f1_scores.values())\n",
    "    exact_mean = mean(exact_scores.values())\n",
    "    \n",
    "    f_time = time.time()-time_0\n",
    "    mlflow.log_param('batch_size', batch_size)\n",
    "    mlflow.log_metric('f1', f1_mean)\n",
    "    mlflow.log_metric('exact', exact_mean)\n",
    "    mlflow.log_metric('process_time',f_time)\n",
    "    print(len(f1_scores), 'f1:', f1_mean)\n",
    "    print(len(exact_scores), 'exact:', exact_mean)\n",
    "\n",
    "del predicciones    "
   ]
  }
 ],
 "metadata": {
  "kernelspec": {
   "display_name": ".venv",
   "language": "python",
   "name": "python3"
  },
  "language_info": {
   "codemirror_mode": {
    "name": "ipython",
    "version": 3
   },
   "file_extension": ".py",
   "mimetype": "text/x-python",
   "name": "python",
   "nbconvert_exporter": "python",
   "pygments_lexer": "ipython3",
   "version": "3.11.3"
  }
 },
 "nbformat": 4,
 "nbformat_minor": 2
}
