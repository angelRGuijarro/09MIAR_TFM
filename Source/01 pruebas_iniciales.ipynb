{
 "cells": [
  {
   "cell_type": "markdown",
   "metadata": {},
   "source": [
    "# PRUEBAS INICIALES\n",
    "Para ver la eficacia del modelo pre-entrenado, sin haber hecho ningún ajuste sobre los datos particulares. Registramos los resultados en MLflow"
   ]
  },
  {
   "cell_type": "code",
   "execution_count": 1,
   "metadata": {},
   "outputs": [],
   "source": [
    "from transformers import pipeline, AutoModelForQuestionAnswering, AutoTokenizer\n",
    "import os\n",
    "from datasets import load_dataset\n",
    "import torch\n",
    "# from custom_evaluate import get_raw_scores_by_example,get_raw_scores_by_prediction\n",
    "from metrics.evaluate import compute_exact, compute_f1\n",
    "from statistics import mean\n",
    "import mlflow\n",
    "import pprint\n",
    "import time\n",
    "import requests\n",
    "from globals import DATA_DIR,MODELS_DIR"
   ]
  },
  {
   "cell_type": "code",
   "execution_count": 2,
   "metadata": {},
   "outputs": [],
   "source": [
    "# Realizaremos las pruebas iniciales con el conjunto de test, cuando se haya concluido el entrenamiento del modelo ajustado (usando train y validation) volveremos a tomar la medida con este conjunto de test. Esto nos servirá para ver si efectivamente el modelo ajustado ha mejorado en algún modo el rendimiento del modelo pre-entrenado.\n",
    "# Datos y modelo\n",
    "dataset = load_dataset(os.path.join(DATA_DIR, \"Escrituras\"),'QA',trust_remote_code=True,split='test')"
   ]
  },
  {
   "cell_type": "code",
   "execution_count": 3,
   "metadata": {},
   "outputs": [],
   "source": [
    "ruta_modelo = os.path.join(MODELS_DIR,'PlanTL-GOB-ES','roberta-large-bne-sqac')\n",
    "# Tamaño de lote para la inferenca\n",
    "batch_size = 512"
   ]
  },
  {
   "cell_type": "code",
   "execution_count": 4,
   "metadata": {},
   "outputs": [],
   "source": [
    "SERVIDOR_MLFLOW = 'http://localhost:5000'\n",
    "# Debo comprobar si está ejecutando el servidor MLflow, en otro caso se demora la ejecución y acaba dando un error\n",
    "def mlflow_en_ejecucion(url):\n",
    "    try:\n",
    "        response = requests.get(url)        \n",
    "        # Si el servidor está en ejecución, deberíamos recibir un código de estado HTTP 200\n",
    "        return response.status_code == 200\n",
    "    except requests.exceptions.ConnectionError:\n",
    "        # Si no se puede establecer una conexión, asumimos que el servidor no está en ejecución\n",
    "        return False\n",
    "    \n",
    "assert mlflow_en_ejecucion(SERVIDOR_MLFLOW), f\"El servidor MLflow ({SERVIDOR_MLFLOW}) no está en ejecución. Lance 'mlflow ui' desde el terminal.\""
   ]
  },
  {
   "cell_type": "code",
   "execution_count": 5,
   "metadata": {},
   "outputs": [
    {
     "name": "stderr",
     "output_type": "stream",
     "text": [
      "2024/02/17 02:19:01 INFO mlflow.tracking.fluent: Autologging successfully enabled for sklearn.\n",
      "2024/02/17 02:19:01 INFO mlflow.tracking.fluent: Autologging successfully enabled for transformers.\n"
     ]
    }
   ],
   "source": [
    "# Servidor de seguimiento\n",
    "mlflow.set_tracking_uri(SERVIDOR_MLFLOW)\n",
    "mlflow.autolog()\n",
    "mlflow.set_experiment(\"Valoración inicial\")\n",
    "# Impresión elegante de datos en la terminal\n",
    "pp = pprint.PrettyPrinter(width=150)"
   ]
  },
  {
   "cell_type": "code",
   "execution_count": 6,
   "metadata": {},
   "outputs": [
    {
     "name": "stdout",
     "output_type": "stream",
     "text": [
      "DatasetInfo(description='',\n",
      "            citation='',\n",
      "            homepage='',\n",
      "            license='',\n",
      "            features={'answers': Sequence(feature={'answer_start': Value(dtype='int32', id=None), 'text': Value(dtype='string', id=None)},\n",
      "                                          length=-1,\n",
      "                                          id=None),\n",
      "                      'context': Value(dtype='string', id=None),\n",
      "                      'id': Value(dtype='string', id=None),\n",
      "                      'question': Value(dtype='string', id=None)},\n",
      "            post_processed=None,\n",
      "            supervised_keys=None,\n",
      "            task_templates=None,\n",
      "            builder_name='escrituras',\n",
      "            dataset_name='escrituras',\n",
      "            config_name='QA',\n",
      "            version=0.0.0,\n",
      "            splits={'test': SplitInfo(name='test', num_bytes=11002385, num_examples=7532, shard_lengths=None, dataset_name='escrituras'),\n",
      "                    'train': SplitInfo(name='train', num_bytes=35013784, num_examples=24096, shard_lengths=None, dataset_name='escrituras'),\n",
      "                    'validation': SplitInfo(name='validation', num_bytes=8786051, num_examples=6028, shard_lengths=None, dataset_name='escrituras')},\n",
      "            download_checksums={'QA_test.json': {'checksum': None, 'num_bytes': 3590989},\n",
      "                                'QA_train.json': {'checksum': None, 'num_bytes': 11427604},\n",
      "                                'QA_validation.json': {'checksum': None, 'num_bytes': 2866185}},\n",
      "            download_size=17884778,\n",
      "            post_processing_size=None,\n",
      "            dataset_size=54802220,\n",
      "            size_in_bytes=72686998)\n"
     ]
    }
   ],
   "source": [
    "# Un vistazo a los datos que estamos testeando\n",
    "pp.pprint(dataset.info)"
   ]
  },
  {
   "cell_type": "code",
   "execution_count": 7,
   "metadata": {},
   "outputs": [
    {
     "name": "stdout",
     "output_type": "stream",
     "text": [
      "True\n"
     ]
    }
   ],
   "source": [
    "# Comprobación de si está bien instalado torch y tenemos una GPU\n",
    "print(torch.cuda.is_available())"
   ]
  },
  {
   "cell_type": "markdown",
   "metadata": {},
   "source": [
    "También he visto que hay varias maneras de realizar las inferencias o consultas sobre el modelo, usando los pipelines. Quiero ver si hay alguna diferencia en el rendimiento. Probaré con distintas formas y cambiaré el tamaño del lote para ver si consigo un rendimiento óptimo."
   ]
  },
  {
   "cell_type": "markdown",
   "metadata": {},
   "source": [
    "### Pipeline sobre lista pregunta-contexto\n",
    "Aunque supone añadir una lista intermedia entre el dataset y el pipeline, cuando hemos excedido la memoria del sistema usando un batch-size demasiado elevado, este método ha respondido, aunque más lento que con un tamaño de batch-size apropiado, pero sin colapsar como con el \"Pipeline sobre dataset\""
   ]
  },
  {
   "cell_type": "code",
   "execution_count": 8,
   "metadata": {},
   "outputs": [],
   "source": [
    "def evaluar_metricas_QA(model_path_or_name, dataset, split='test', batch_size=512):\n",
    "    \"\"\"Escribe por pantalla y guarda en MLflow los valores de las métricas f1 y exact match para este modelo y dataset.\"\"\"\n",
    "    model = AutoModelForQuestionAnswering.from_pretrained(model_path_or_name)\n",
    "    tokenizer = AutoTokenizer.from_pretrained(model_path_or_name)\n",
    "\n",
    "    model.eval()    \n",
    "    ## Método 1\n",
    "    qc_dataset = [{'question':q, 'context':c} for q,c in zip(dataset['question'],dataset['context'])]\n",
    "    consulta = pipeline(\"question-answering\", model=model, tokenizer=tokenizer, \n",
    "                    device=0 if torch.cuda.is_available() else None, batch_size=batch_size)\n",
    "    predicciones = consulta(qc_dataset)\n",
    "    \n",
    "    ## Método 2\n",
    "    # consulta =  pipeline(\"question-answering\", model=model, device=0 if torch.cuda.is_available() else None, batch_size=batch_size)\n",
    "    # predicciones = dataset.map(lambda ejemplo: {'prediccion': consulta({'question':ejemplo['question'], 'context':ejemplo['context']})})\n",
    "    \n",
    "    # # Método 3\n",
    "    # consulta =  pipeline(\"question-answering\", model=model, tokenizer=tokenizer, \n",
    "    #                 device=0 if torch.cuda.is_available() else None, batch_size=batch_size)        \n",
    "    # predicciones = consulta(question=dataset['question'], context=dataset['context'])\n",
    "\n",
    "    # Ejecución y cálculo de métricas\n",
    "    gold_answers = [answer['text'][0] for answer in dataset['answers']]\n",
    "    pred_answers = [pred['answer'] for pred in predicciones]\n",
    "    f1_scores = [compute_f1(g,p) for g,p in zip(gold_answers,pred_answers)]\n",
    "    exact_scores = [compute_exact(g,p) for g,p in zip(gold_answers,pred_answers)]\n",
    "    \n",
    "    f1_mean = mean(f1_scores)\n",
    "    exact_mean = mean(exact_scores)\n",
    "    \n",
    "    mlflow.log_param('split', split)\n",
    "    mlflow.log_param('model_name',model.name_or_path)\n",
    "    mlflow.log_metric('f1', f1_mean)\n",
    "    mlflow.log_metric('exact', exact_mean)\n",
    "    print(model.name_or_path)\n",
    "    print('\\tf1:', f1_mean)\n",
    "    print('\\texact:', exact_mean)"
   ]
  },
  {
   "cell_type": "code",
   "execution_count": 9,
   "metadata": {},
   "outputs": [],
   "source": [
    "with mlflow.start_run(run_name=\"Prueba inicial de evaluación\",description=\"Predicciones con el modelo pre-entrenado, usando dataset de test\"):\n",
    "    evaluar_metricas_QA(ruta_modelo,dataset)"
   ]
  }
 ],
 "metadata": {
  "kernelspec": {
   "display_name": ".venv",
   "language": "python",
   "name": "python3"
  },
  "language_info": {
   "codemirror_mode": {
    "name": "ipython",
    "version": 3
   },
   "file_extension": ".py",
   "mimetype": "text/x-python",
   "name": "python",
   "nbconvert_exporter": "python",
   "pygments_lexer": "ipython3",
   "version": "3.11.3"
  }
 },
 "nbformat": 4,
 "nbformat_minor": 2
}
