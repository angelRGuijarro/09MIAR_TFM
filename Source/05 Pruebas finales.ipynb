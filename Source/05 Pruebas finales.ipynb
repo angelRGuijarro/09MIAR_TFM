{
 "cells": [
  {
   "cell_type": "code",
   "execution_count": 1,
   "metadata": {},
   "outputs": [],
   "source": [
    "from transformers import AutoModelForQuestionAnswering, AutoTokenizer, pipeline, AutoModelForTokenClassification\n",
    "from globals import DATA_DIR, MODELS_DIR, Tipo_Contenido, ner_predicted_labels, group_by_labels\n",
    "import os\n",
    "import torch\n",
    "from pprint import pprint"
   ]
  },
  {
   "cell_type": "markdown",
   "metadata": {},
   "source": [
    "Pruebas con QA"
   ]
  },
  {
   "cell_type": "code",
   "execution_count": 2,
   "metadata": {},
   "outputs": [],
   "source": [
    "context = \"ES COPIA SIMPLE CHRISTOPHER MARTIN NIKONOV N o t a r i a Avd. Tvaerbommen 3, 1º Local 79 Tel 747 26 11 72 Fax 168 78 08 63 09183 OLIVOS KAUFFELDT HECKER Miel frbjrrhmpcz@celutfwbk.kam 2 C O M P R A V E N T A NÚMERO nueve mil ochocientos setenta y tres En LA FRAGATA, mi residencia, a veintiuno de junio de dos mil veintidós. Ante mí, CHRISTOPHER MARTIN NIKONOV Notario del Ilustre LA PALMERAS LOS ABEDULES, C O M P A R E C E N De una parte: DON RIITTA HELENA FROGREN NI CHONCHUBHAIR , KOBIERSKIESSANI de edad, de vecindad civil común, de profesión militar, soltero, CHIAPPECAÑADAS de RUE STUYVENBERGH, con domicilio en BÁEZHUGHES FORTFIELD, número 5, 9ºA, titular de D.N.I. número 85445541 H. De otra parte: DON EVA ALARAR PAPP SUBOTKOVKAJA, MICHIELSENÁVILA de edad, de vecindad civil común, de profesión HANAKOVA civil, divorciado, TAYLORROUHI de Fredrikinkatu, con domicilio en ADAMSONBERISTAIN Rönneholmsvägen, número 55, Tamarindo 0, 3ºB, titular de D.N.I. número 18283430 X. Resultan sus circunstancias personales de sus Es copia simple electrónica CAPPAMARJANSKA Administraciones Públicas ES COPIA SIMPLE ELECTRÓNICA LAIKKOLÓPEZ DE LANDACHE ADMINISTRACIONES PÚBLICAS\""
   ]
  },
  {
   "cell_type": "code",
   "execution_count": 3,
   "metadata": {},
   "outputs": [],
   "source": [
    "Modelos_QA = {\n",
    "    'base' : os.path.join(MODELS_DIR,\"PlanTL-GOB-ES\",\"roberta-large-bne-sqac\"),\n",
    "    'ajustado' : os.path.join(MODELS_DIR,\"20240219-0205_escrituras_QA_2-epoch_6024-steps\")\n",
    "}\n",
    "Modelos_NER = {\n",
    "    'ajustado' : os.path.join(MODELS_DIR,\"20240218-2002_escrituras_NER_3-epoch_2259-steps\")\n",
    "}\n",
    "preguntas_QA = [Tipo_Contenido]"
   ]
  },
  {
   "cell_type": "code",
   "execution_count": 4,
   "metadata": {},
   "outputs": [
    {
     "name": "stdout",
     "output_type": "stream",
     "text": [
      "ES COPIA SIMPLE CHRISTOPHER MARTIN NIKONOV N o t a r i a Avd. Tvaerbommen 3, 1º Local 79 Tel 747 26 11 72 Fax 168 78 08 63 09183 OLIVOS KAUFFELDT HECKER Miel frbjrrhmpcz@celutfwbk.kam 2 C O M P R A V E N T A NÚMERO nueve mil ochocientos setenta y tres En LA FRAGATA, mi residencia, a veintiuno de junio de dos mil veintidós. Ante mí, CHRISTOPHER MARTIN NIKONOV Notario del Ilustre LA PALMERAS LOS ABEDULES, C O M P A R E C E N De una parte: DON RIITTA HELENA FROGREN NI CHONCHUBHAIR , KOBIERSKIESSANI de edad, de vecindad civil común, de profesión militar, soltero, CHIAPPECAÑADAS de RUE STUYVENBERGH, con domicilio en BÁEZHUGHES FORTFIELD, número 5, 9ºA, titular de D.N.I. número 85445541 H. De otra parte: DON EVA ALARAR PAPP SUBOTKOVKAJA, MICHIELSENÁVILA de edad, de vecindad civil común, de profesión HANAKOVA civil, divorciado, TAYLORROUHI de Fredrikinkatu, con domicilio en ADAMSONBERISTAIN Rönneholmsvägen, número 55, Tamarindo 0, 3ºB, titular de D.N.I. número 18283430 X. Resultan sus circunstancias personales de sus Es copia simple electrónica CAPPAMARJANSKA Administraciones Públicas ES COPIA SIMPLE ELECTRÓNICA LAIKKOLÓPEZ DE LANDACHE ADMINISTRACIONES PÚBLICAS \n",
      "\n",
      "Modelo base QA\n",
      "Pregunta \"¿cuál es el número de protocolo?\":\n",
      "\t 85445541 H\n",
      "Pregunta \"¿en qué fecha se ha firmado el documento?\":\n",
      "\t a veintiuno de junio de dos mil veintidós\n",
      "Pregunta \"¿qué notario ha firmado el documento?\":\n",
      "\t Ilustre LA PALMERAS LOS ABEDULES\n",
      "Pregunta \"¿cuál es el tipo de documento?\":\n",
      "\t COPIA SIMPLE\n",
      "\n",
      "\n",
      "Modelo ajustado QA\n",
      "Pregunta \"¿cuál es el número de protocolo?\":\n",
      "\t nueve mil ochocientos setenta y tres\n",
      "Pregunta \"¿en qué fecha se ha firmado el documento?\":\n",
      "\t veintiuno de junio de dos mil veintidós\n",
      "Pregunta \"¿qué notario ha firmado el documento?\":\n",
      "\t CHRISTOPHER MARTIN NIKONOV\n",
      "Pregunta \"¿cuál es el tipo de documento?\":\n",
      "\t C O M P R A V E N T A\n",
      "\n",
      "\n"
     ]
    }
   ],
   "source": [
    "print(context, \"\\n\")\n",
    "\n",
    "for tipo_modelo in Modelos_QA:\n",
    "    path_modelo = Modelos_QA[tipo_modelo]\n",
    "    model = AutoModelForQuestionAnswering.from_pretrained(path_modelo)\n",
    "    tokenizer = AutoTokenizer.from_pretrained(path_modelo)\n",
    "    model.eval()    \n",
    "    consulta =  pipeline(\"question-answering\", model=model, tokenizer=tokenizer, \n",
    "                    device=0 if torch.cuda.is_available() else None)        \n",
    "    print(f\"Modelo {tipo_modelo} QA\")\n",
    "    for question in [Tipo_Contenido.pregunta(t) for t in Tipo_Contenido]:\n",
    "        if question:\n",
    "            print(f\"Pregunta \\\"{question}\\\":\")\n",
    "            predicciones = consulta(question=question, context=context)\n",
    "            pred_answers = [pred['answer'] for pred in predicciones] if isinstance(predicciones,list) else predicciones['answer']\n",
    "            print(\"\\t\", pred_answers)\n",
    "    print(\"\\n\")"
   ]
  },
  {
   "cell_type": "code",
   "execution_count": 5,
   "metadata": {},
   "outputs": [
    {
     "name": "stdout",
     "output_type": "stream",
     "text": [
      "Modelo ajustado NER\n",
      "[{'label': 'NOT',\n",
      "  'matches': [{'start': 16, 'text': 'CHRISTOPHER MARTIN NIKONOV'},\n",
      "              {'start': 334, 'text': 'CHRISTOPHER MARTIN NIKONOV'}]},\n",
      " {'label': 'TDOC',\n",
      "  'matches': [{'start': 186, 'text': 'C O M P R A V E N T A'}]},\n",
      " {'label': 'PROTO',\n",
      "  'matches': [{'start': 215, 'text': 'nueve mil ochocientos setenta y tres'}]},\n",
      " {'label': 'FDOC',\n",
      "  'matches': [{'start': 284,\n",
      "               'text': 'veintiuno de junio de dos mil veintidós'}]}]\n"
     ]
    }
   ],
   "source": [
    "for tipo_modelo in Modelos_NER:\n",
    "    print(f\"Modelo {tipo_modelo} NER\")\n",
    "    model  = AutoModelForTokenClassification.from_pretrained(Modelos_NER[tipo_modelo])\n",
    "    tokenizer = AutoTokenizer.from_pretrained(Modelos_NER[tipo_modelo])\n",
    "    consulta =  pipeline(\"ner\", model=model, tokenizer=tokenizer, \n",
    "                device=0 if torch.cuda.is_available() else None)        \n",
    "    predicciones = consulta(context)\n",
    "    pred_etiquetas = ner_predicted_labels(predicciones,context,tokenizer)\n",
    "    # pprint(pred_etiquetas)\n",
    "    pprint(group_by_labels(pred_etiquetas))    "
   ]
  }
 ],
 "metadata": {
  "kernelspec": {
   "display_name": ".venv",
   "language": "python",
   "name": "python3"
  },
  "language_info": {
   "codemirror_mode": {
    "name": "ipython",
    "version": 3
   },
   "file_extension": ".py",
   "mimetype": "text/x-python",
   "name": "python",
   "nbconvert_exporter": "python",
   "pygments_lexer": "ipython3",
   "version": "3.11.3"
  }
 },
 "nbformat": 4,
 "nbformat_minor": 2
}
