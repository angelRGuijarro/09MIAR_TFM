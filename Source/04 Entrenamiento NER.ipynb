{
 "cells": [
  {
   "cell_type": "code",
   "execution_count": 1,
   "metadata": {},
   "outputs": [],
   "source": [
    "import os\n",
    "from globals import TRAINING_DIR,MODELS_DIR, DATA_DIR, id2label,label2id\n",
    "import mlflow\n",
    "from datasets import load_dataset\n",
    "import requests\n",
    "from transformers import (\n",
    "    AutoModelForTokenClassification,\n",
    "    AutoTokenizer,\n",
    "    DataCollatorForTokenClassification,\n",
    "    TrainingArguments,\n",
    "    Trainer)\n",
    "from pprint import PrettyPrinter\n",
    "import numpy as np\n",
    "import evaluate"
   ]
  },
  {
   "cell_type": "markdown",
   "metadata": {},
   "source": [
    "Definición de variables globales, parámetros de entrenamiento y MLflow"
   ]
  },
  {
   "cell_type": "code",
   "execution_count": 2,
   "metadata": {},
   "outputs": [],
   "source": [
    "# VARIABLES GLOBALES\n",
    "train_max = None # Número máximo de elementos para entrenamiento (para pruebas) None para ir en serio\n",
    "training_output_dir = os.path.join(TRAINING_DIR,\"NER\")\n",
    "# Defino una serie de variables que registraré en los entrenamientos de MLflow\n",
    "ml_params = {\n",
    "    'num_epochs': 5,\n",
    "    'lr' : 1e-5,\n",
    "    'eval_steps' : 0.05, \n",
    "    'eval_batch_size' : 32,\n",
    "    'model_name': os.path.join(MODELS_DIR,'PlanTL-GOB-ES','roberta-base-bne-capitel-ner-plus')\n",
    "}\n",
    "num_epochs = lr = eval_steps = save_steps = eval_batch_size = model_name = 0\n",
    "for key, value in ml_params.items():\n",
    "    assert not globals()[key] is None, f'La variable global {key} debe estar definida'    \n",
    "    globals()[key] = value\n",
    "\n",
    "pp = PrettyPrinter(width=150)"
   ]
  },
  {
   "cell_type": "markdown",
   "metadata": {},
   "source": [
    "Carga del conjunto de datos "
   ]
  },
  {
   "cell_type": "code",
   "execution_count": 3,
   "metadata": {},
   "outputs": [],
   "source": [
    "main_dataset = load_dataset(os.path.join(DATA_DIR,'Escrituras'), 'NER',trust_remote_code=True)\n",
    "train_dataset = main_dataset['train']\n",
    "val_dataset = main_dataset['validation']\n",
    "if train_max:\n",
    "    train_dataset = train_dataset.select(range(train_max))\n",
    "    val_dataset = val_dataset.select(range(train_max))\n",
    "del main_dataset"
   ]
  },
  {
   "cell_type": "markdown",
   "metadata": {},
   "source": [
    "Comprobación de que el servidor MLflow está funcionando para las pruebas"
   ]
  },
  {
   "cell_type": "code",
   "execution_count": 4,
   "metadata": {},
   "outputs": [],
   "source": [
    "SERVIDOR_MLFLOW = 'http://localhost:5000'\n",
    "# Debo comprobar si está ejecutando el servidor MLflow, en otro caso se demora la ejecución y acaba dando un error\n",
    "def mlflow_en_ejecucion(url):\n",
    "    try:\n",
    "        response = requests.get(url)        \n",
    "        # Si el servidor está en ejecución, deberíamos recibir un código de estado HTTP 200\n",
    "        return response.status_code == 200\n",
    "    except requests.exceptions.ConnectionError:\n",
    "        # Si no se puede establecer una conexión, asumimos que el servidor no está en ejecución\n",
    "        return False\n",
    "    \n",
    "assert mlflow_en_ejecucion(SERVIDOR_MLFLOW), f\"El servidor MLflow ({SERVIDOR_MLFLOW}) no está en ejecución. Lance 'mlflow ui' desde el terminal.\""
   ]
  },
  {
   "cell_type": "markdown",
   "metadata": {},
   "source": [
    "### Iniciamos el entrenamiento"
   ]
  },
  {
   "cell_type": "code",
   "execution_count": 5,
   "metadata": {},
   "outputs": [
    {
     "name": "stderr",
     "output_type": "stream",
     "text": [
      "2024/02/17 20:56:30 INFO mlflow.tracking.fluent: Autologging successfully enabled for transformers.\n",
      "2024/02/17 20:56:30 INFO mlflow.tracking.fluent: Autologging successfully enabled for sklearn.\n"
     ]
    },
    {
     "data": {
      "text/plain": [
       "<Experiment: artifact_location='mlflow-artifacts:/607812590786935156', creation_time=1708174761333, experiment_id='607812590786935156', last_update_time=1708174761333, lifecycle_stage='active', name='ENTRENAMIENTO Named Entity Recognition', tags={}>"
      ]
     },
     "execution_count": 5,
     "metadata": {},
     "output_type": "execute_result"
    }
   ],
   "source": [
    "# Servidor de seguimiento\n",
    "mlflow.set_tracking_uri(SERVIDOR_MLFLOW)\n",
    "mlflow.autolog()\n",
    "mlflow.set_experiment(\"ENTRENAMIENTO Named Entity Recognition\")"
   ]
  },
  {
   "cell_type": "code",
   "execution_count": 6,
   "metadata": {},
   "outputs": [
    {
     "name": "stderr",
     "output_type": "stream",
     "text": [
      "Some weights of RobertaForTokenClassification were not initialized from the model checkpoint at ..\\Models\\PlanTL-GOB-ES\\roberta-base-bne-capitel-ner-plus and are newly initialized because the shapes did not match:\n",
      "- classifier.weight: found shape torch.Size([17, 768]) in the checkpoint and torch.Size([9, 768]) in the model instantiated\n",
      "- classifier.bias: found shape torch.Size([17]) in the checkpoint and torch.Size([9]) in the model instantiated\n",
      "You should probably TRAIN this model on a down-stream task to be able to use it for predictions and inference.\n"
     ]
    }
   ],
   "source": [
    "model  = AutoModelForTokenClassification.from_pretrained(model_name, \n",
    "                                                         num_labels=9, ignore_mismatched_sizes=True,\n",
    "                                                         id2label=id2label,label2id=label2id)\n",
    "tokenizer = AutoTokenizer.from_pretrained(model_name)\n",
    "data_collator = DataCollatorForTokenClassification(tokenizer=tokenizer)"
   ]
  },
  {
   "cell_type": "code",
   "execution_count": 7,
   "metadata": {},
   "outputs": [
    {
     "name": "stdout",
     "output_type": "stream",
     "text": [
      "DatasetInfo(description='Dataset para entrenamiento de modelos NER en extracción de datos de escrituras.\\n'\n",
      "                        '                                    Las etiquetas utilizadas se corresponden con los siguientes elementos:\\n'\n",
      "                        \"                                    'B-PROTO','I-PROTO':    Número de PROTOCOLO.\\n\"\n",
      "                        \"                                    'B-FDOC','I-FDOC':      FECHA de firma del DOCUMENTO.\\n\"\n",
      "                        \"                                    'B-NOT','I-NOT':        NOTARIO, nombre y apellidos.\\n\"\n",
      "                        \"                                    'B-TDOC','I-TDOC':      TIPO de DOCUMENTO.\\n\"\n",
      "                        '                                ',\n",
      "            citation='',\n",
      "            homepage='',\n",
      "            license='',\n",
      "            features={'id': Value(dtype='string', id=None),\n",
      "                      'ner_tags': Sequence(feature=ClassLabel(names=['O',\n",
      "                                                                     'B-PROTO',\n",
      "                                                                     'I-PROTO',\n",
      "                                                                     'B-FDOC',\n",
      "                                                                     'I-FDOC',\n",
      "                                                                     'B-NOT',\n",
      "                                                                     'I-NOT',\n",
      "                                                                     'B-TDOC',\n",
      "                                                                     'I-TDOC'],\n",
      "                                                              id=None),\n",
      "                                           length=-1,\n",
      "                                           id=None),\n",
      "                      'tokens': Sequence(feature=Value(dtype='string', id=None), length=-1, id=None)},\n",
      "            post_processed=None,\n",
      "            supervised_keys=None,\n",
      "            task_templates=None,\n",
      "            builder_name='escrituras',\n",
      "            dataset_name='escrituras',\n",
      "            config_name='NER',\n",
      "            version=0.0.0,\n",
      "            splits={'test': SplitInfo(name='test', num_bytes=7462889, num_examples=1883, shard_lengths=None, dataset_name='escrituras'),\n",
      "                    'train': SplitInfo(name='train', num_bytes=23787339, num_examples=6024, shard_lengths=None, dataset_name='escrituras'),\n",
      "                    'validation': SplitInfo(name='validation', num_bytes=5962213, num_examples=1507, shard_lengths=None, dataset_name='escrituras')},\n",
      "            download_checksums={'NER_test.json': {'checksum': None, 'num_bytes': 7730085},\n",
      "                                'NER_train.json': {'checksum': None, 'num_bytes': 24632197},\n",
      "                                'NER_validation.json': {'checksum': None, 'num_bytes': 6173699}},\n",
      "            download_size=38535981,\n",
      "            post_processing_size=None,\n",
      "            dataset_size=37212441,\n",
      "            size_in_bytes=75748422)\n"
     ]
    }
   ],
   "source": [
    "pp.pprint(train_dataset.info)"
   ]
  },
  {
   "cell_type": "code",
   "execution_count": 8,
   "metadata": {},
   "outputs": [],
   "source": [
    "def f_preproceso(examples):\n",
    "    \"\"\"Función para generar los input_ids, atention_mask y otras características para el entrenamiento.\n",
    "        Realinea los 'ner_tags' que\"\"\"        \n",
    "    tokenized_inputs = tokenizer(examples[\"tokens\"], is_split_into_words=True, truncation=True, padding=True)\n",
    "    \n",
    "    ner_tags_ids = []\n",
    "    for i, tags in enumerate(examples[\"ner_tags\"]):\n",
    "        word_ids = tokenized_inputs.word_ids(batch_index=i)  # indica de qué palabra viene cada token\n",
    "        previous_word_idx = None\n",
    "        tag_ids = []\n",
    "        for word_idx in word_ids:  \n",
    "            # Tokens especiales van a -100 para ser ignorados por la función de pérdida.\n",
    "            if word_idx is None:\n",
    "                tag_ids.append(-100)\n",
    "            elif word_idx != previous_word_idx:  # Sólo se etiqueta la primera aparición de cada palabra\n",
    "                tag_ids.append(tags[word_idx])\n",
    "            else:\n",
    "                # Depende del parámetro label_all_tokens en cuyo caso habría que etiquetar todos los tokens de cada palabra\n",
    "                tag_ids.append(-100)\n",
    "                # tag_ids.append(tags[word_idx])\n",
    "\n",
    "            previous_word_idx = word_idx\n",
    "        ner_tags_ids.append(tag_ids)\n",
    "\n",
    "    tokenized_inputs[\"labels\"] = ner_tags_ids\n",
    "    return tokenized_inputs"
   ]
  },
  {
   "cell_type": "code",
   "execution_count": 9,
   "metadata": {},
   "outputs": [],
   "source": [
    "tokenized_train_dataset = train_dataset.map(f_preproceso, batched=True)\n",
    "tokenized_val_dataset = val_dataset.map(f_preproceso,batched=True)\n",
    "del train_dataset\n",
    "del val_dataset"
   ]
  },
  {
   "cell_type": "code",
   "execution_count": 10,
   "metadata": {},
   "outputs": [
    {
     "name": "stdout",
     "output_type": "stream",
     "text": [
      "DatasetInfo(description='Dataset para entrenamiento de modelos NER en extracción de datos de escrituras.\\n'\n",
      "                        '                                    Las etiquetas utilizadas se corresponden con los siguientes elementos:\\n'\n",
      "                        \"                                    'B-PROTO','I-PROTO':    Número de PROTOCOLO.\\n\"\n",
      "                        \"                                    'B-FDOC','I-FDOC':      FECHA de firma del DOCUMENTO.\\n\"\n",
      "                        \"                                    'B-NOT','I-NOT':        NOTARIO, nombre y apellidos.\\n\"\n",
      "                        \"                                    'B-TDOC','I-TDOC':      TIPO de DOCUMENTO.\\n\"\n",
      "                        '                                ',\n",
      "            citation='',\n",
      "            homepage='',\n",
      "            license='',\n",
      "            features={'attention_mask': Sequence(feature=Value(dtype='int8', id=None), length=-1, id=None),\n",
      "                      'id': Value(dtype='string', id=None),\n",
      "                      'input_ids': Sequence(feature=Value(dtype='int32', id=None), length=-1, id=None),\n",
      "                      'labels': Sequence(feature=Value(dtype='int64', id=None), length=-1, id=None),\n",
      "                      'ner_tags': Sequence(feature=ClassLabel(names=['O',\n",
      "                                                                     'B-PROTO',\n",
      "                                                                     'I-PROTO',\n",
      "                                                                     'B-FDOC',\n",
      "                                                                     'I-FDOC',\n",
      "                                                                     'B-NOT',\n",
      "                                                                     'I-NOT',\n",
      "                                                                     'B-TDOC',\n",
      "                                                                     'I-TDOC'],\n",
      "                                                              id=None),\n",
      "                                           length=-1,\n",
      "                                           id=None),\n",
      "                      'tokens': Sequence(feature=Value(dtype='string', id=None), length=-1, id=None)},\n",
      "            post_processed=None,\n",
      "            supervised_keys=None,\n",
      "            task_templates=None,\n",
      "            builder_name='escrituras',\n",
      "            dataset_name='escrituras',\n",
      "            config_name='NER',\n",
      "            version=0.0.0,\n",
      "            splits={'test': SplitInfo(name='test', num_bytes=7462889, num_examples=1883, shard_lengths=None, dataset_name='escrituras'),\n",
      "                    'train': SplitInfo(name='train', num_bytes=23787339, num_examples=6024, shard_lengths=None, dataset_name='escrituras'),\n",
      "                    'validation': SplitInfo(name='validation', num_bytes=5962213, num_examples=1507, shard_lengths=None, dataset_name='escrituras')},\n",
      "            download_checksums={'NER_test.json': {'checksum': None, 'num_bytes': 7730085},\n",
      "                                'NER_train.json': {'checksum': None, 'num_bytes': 24632197},\n",
      "                                'NER_validation.json': {'checksum': None, 'num_bytes': 6173699}},\n",
      "            download_size=38535981,\n",
      "            post_processing_size=None,\n",
      "            dataset_size=37212441,\n",
      "            size_in_bytes=75748422)\n"
     ]
    }
   ],
   "source": [
    "pp.pprint(tokenized_train_dataset.info)"
   ]
  },
  {
   "cell_type": "code",
   "execution_count": 11,
   "metadata": {},
   "outputs": [],
   "source": [
    "# Cargo la lista de etiquetas definidas en el dataset\n",
    "lista_etiquetas = tokenized_train_dataset.features['ner_tags'].feature.names\n",
    "# Y Cargo la métrica\n",
    "seqeval = evaluate.load(\"seqeval\")\n",
    "\n",
    "# Función de evaluación \n",
    "def compute_metrics(eval_pred):\n",
    "    predictions, labels = eval_pred\n",
    "    predictions = np.argmax(predictions, axis=2)\n",
    "\n",
    "    true_predictions = [\n",
    "        [lista_etiquetas[p] for (p, l) in zip(prediction, label) if l != -100]\n",
    "            for prediction, label in zip(predictions, labels)\n",
    "    ]\n",
    "    true_labels = [\n",
    "        [lista_etiquetas[l] for (p, l) in zip(prediction, label) if l != -100]\n",
    "            for prediction, label in zip(predictions, labels)\n",
    "    ]\n",
    "\n",
    "    results = seqeval.compute(predictions=true_predictions, references=true_labels)\n",
    "    return {\n",
    "        \"precision\": results[\"overall_precision\"],\n",
    "        \"recall\": results[\"overall_recall\"],\n",
    "        \"f1_score\": results[\"overall_f1\"],\n",
    "        \"accuracy\": results[\"overall_accuracy\"],\n",
    "    }"
   ]
  },
  {
   "cell_type": "markdown",
   "metadata": {},
   "source": [
    "Definición de los parámetros y el trainer"
   ]
  },
  {
   "cell_type": "code",
   "execution_count": 12,
   "metadata": {},
   "outputs": [],
   "source": [
    "training_args = TrainingArguments(\n",
    "    output_dir=training_output_dir,\n",
    "    overwrite_output_dir=True,\n",
    "    do_train=True,\n",
    "    learning_rate=lr,\n",
    "    per_device_eval_batch_size=eval_batch_size,\n",
    "    num_train_epochs=num_epochs,\n",
    "    evaluation_strategy=\"steps\",\n",
    "    eval_steps=eval_steps,\n",
    "    save_strategy=\"steps\",\n",
    "    save_steps=eval_steps,\n",
    "    load_best_model_at_end=True,\n",
    "    metric_for_best_model='f1_score'    \n",
    ")\n",
    "\n",
    "trainer = Trainer(\n",
    "    model=model,\n",
    "    args=training_args,\n",
    "    train_dataset=tokenized_train_dataset,\n",
    "    eval_dataset=tokenized_val_dataset,\n",
    "    tokenizer=tokenizer,\n",
    "    data_collator=data_collator,\n",
    "    compute_metrics=compute_metrics\n",
    ")"
   ]
  },
  {
   "cell_type": "code",
   "execution_count": 13,
   "metadata": {},
   "outputs": [
    {
     "name": "stderr",
     "output_type": "stream",
     "text": [
      "2024/02/17 20:56:36 INFO mlflow.tracking.fluent: Autologging successfully enabled for transformers.\n",
      "2024/02/17 20:56:36 INFO mlflow.tracking.fluent: Autologging successfully enabled for sklearn.\n"
     ]
    },
    {
     "data": {
      "application/vnd.jupyter.widget-view+json": {
       "model_id": "2e13dd705df04a3e9e213a0295895684",
       "version_major": 2,
       "version_minor": 0
      },
      "text/plain": [
       "  0%|          | 0/3765 [00:00<?, ?it/s]"
      ]
     },
     "metadata": {},
     "output_type": "display_data"
    },
    {
     "data": {
      "application/vnd.jupyter.widget-view+json": {
       "model_id": "0006c247f09148bd8f1f474fbd94c00f",
       "version_major": 2,
       "version_minor": 0
      },
      "text/plain": [
       "  0%|          | 0/48 [00:00<?, ?it/s]"
      ]
     },
     "metadata": {},
     "output_type": "display_data"
    },
    {
     "name": "stdout",
     "output_type": "stream",
     "text": [
      "{'eval_loss': 0.015202583745121956, 'eval_precision': 0.9407024479245857, 'eval_recall': 0.9572953736654805, 'eval_f1_score': 0.9489263803680982, 'eval_accuracy': 0.9972696518883112, 'eval_runtime': 17.986, 'eval_samples_per_second': 83.787, 'eval_steps_per_second': 2.669, 'epoch': 0.25}\n"
     ]
    },
    {
     "data": {
      "application/vnd.jupyter.widget-view+json": {
       "model_id": "a8e29f210f384db391dae58f8e34765a",
       "version_major": 2,
       "version_minor": 0
      },
      "text/plain": [
       "  0%|          | 0/48 [00:00<?, ?it/s]"
      ]
     },
     "metadata": {},
     "output_type": "display_data"
    },
    {
     "name": "stdout",
     "output_type": "stream",
     "text": [
      "{'eval_loss': 0.007345446385443211, 'eval_precision': 0.979108635097493, 'eval_recall': 0.9789571406467584, 'eval_f1_score': 0.9790328820116054, 'eval_accuracy': 0.9987441014322784, 'eval_runtime': 17.684, 'eval_samples_per_second': 85.218, 'eval_steps_per_second': 2.714, 'epoch': 0.5}\n",
      "{'loss': 0.0817, 'learning_rate': 8.671978751660027e-06, 'epoch': 0.66}\n"
     ]
    },
    {
     "data": {
      "application/vnd.jupyter.widget-view+json": {
       "model_id": "0bbe78dbde644643b9c27d26524bd39c",
       "version_major": 2,
       "version_minor": 0
      },
      "text/plain": [
       "  0%|          | 0/48 [00:00<?, ?it/s]"
      ]
     },
     "metadata": {},
     "output_type": "display_data"
    },
    {
     "name": "stdout",
     "output_type": "stream",
     "text": [
      "{'eval_loss': 0.005181695334613323, 'eval_precision': 0.9764470443349754, 'eval_recall': 0.9814327711589045, 'eval_f1_score': 0.9789335596882476, 'eval_accuracy': 0.9990119033327485, 'eval_runtime': 17.754, 'eval_samples_per_second': 84.882, 'eval_steps_per_second': 2.704, 'epoch': 0.75}\n"
     ]
    },
    {
     "data": {
      "application/vnd.jupyter.widget-view+json": {
       "model_id": "b244555e1f2f41549727e0187e3eb289",
       "version_major": 2,
       "version_minor": 0
      },
      "text/plain": [
       "  0%|          | 0/48 [00:00<?, ?it/s]"
      ]
     },
     "metadata": {},
     "output_type": "display_data"
    },
    {
     "name": "stdout",
     "output_type": "stream",
     "text": [
      "{'eval_loss': 0.003898278810083866, 'eval_precision': 0.9839926119747576, 'eval_recall': 0.989169116509361, 'eval_f1_score': 0.9865740740740742, 'eval_accuracy': 0.9992827834159825, 'eval_runtime': 17.807, 'eval_samples_per_second': 84.63, 'eval_steps_per_second': 2.696, 'epoch': 1.0}\n"
     ]
    },
    {
     "data": {
      "application/vnd.jupyter.widget-view+json": {
       "model_id": "64702add271f47a4bff12a2cad226baf",
       "version_major": 2,
       "version_minor": 0
      },
      "text/plain": [
       "  0%|          | 0/48 [00:00<?, ?it/s]"
      ]
     },
     "metadata": {},
     "output_type": "display_data"
    },
    {
     "name": "stdout",
     "output_type": "stream",
     "text": [
      "{'eval_loss': 0.0034599360078573227, 'eval_precision': 0.9841635916359164, 'eval_recall': 0.990406931765434, 'eval_f1_score': 0.9872753913781137, 'eval_accuracy': 0.9993135652436228, 'eval_runtime': 17.834, 'eval_samples_per_second': 84.502, 'eval_steps_per_second': 2.691, 'epoch': 1.25}\n",
      "{'loss': 0.0035, 'learning_rate': 7.343957503320054e-06, 'epoch': 1.33}\n"
     ]
    },
    {
     "data": {
      "application/vnd.jupyter.widget-view+json": {
       "model_id": "4e02f7d3ed5847238125e435abcef6d6",
       "version_major": 2,
       "version_minor": 0
      },
      "text/plain": [
       "  0%|          | 0/48 [00:00<?, ?it/s]"
      ]
     },
     "metadata": {},
     "output_type": "display_data"
    },
    {
     "name": "stdout",
     "output_type": "stream",
     "text": [
      "{'eval_loss': 0.0030460883863270283, 'eval_precision': 0.9869230769230769, 'eval_recall': 0.9925731084635618, 'eval_f1_score': 0.989740029314202, 'eval_accuracy': 0.9994059107265435, 'eval_runtime': 18.367, 'eval_samples_per_second': 82.049, 'eval_steps_per_second': 2.613, 'epoch': 1.51}\n"
     ]
    },
    {
     "data": {
      "application/vnd.jupyter.widget-view+json": {
       "model_id": "ad66da835efe48baa93aca53610a3e20",
       "version_major": 2,
       "version_minor": 0
      },
      "text/plain": [
       "  0%|          | 0/48 [00:00<?, ?it/s]"
      ]
     },
     "metadata": {},
     "output_type": "display_data"
    },
    {
     "name": "stdout",
     "output_type": "stream",
     "text": [
      "{'eval_loss': 0.00292876735329628, 'eval_precision': 0.9873495834618945, 'eval_recall': 0.9902522048584249, 'eval_f1_score': 0.9887987640015451, 'eval_accuracy': 0.9993997543610155, 'eval_runtime': 17.744, 'eval_samples_per_second': 84.93, 'eval_steps_per_second': 2.705, 'epoch': 1.76}\n",
      "{'loss': 0.0019, 'learning_rate': 6.0159362549800805e-06, 'epoch': 1.99}\n"
     ]
    },
    {
     "data": {
      "application/vnd.jupyter.widget-view+json": {
       "model_id": "09b7f4d6fef64dee80ad92e7d1bed90d",
       "version_major": 2,
       "version_minor": 0
      },
      "text/plain": [
       "  0%|          | 0/48 [00:00<?, ?it/s]"
      ]
     },
     "metadata": {},
     "output_type": "display_data"
    },
    {
     "name": "stdout",
     "output_type": "stream",
     "text": [
      "{'eval_loss': 0.0030608715023845434, 'eval_precision': 0.9858570330514989, 'eval_recall': 0.9922636546495436, 'eval_f1_score': 0.9890499691548427, 'eval_accuracy': 0.9993566598023191, 'eval_runtime': 17.748, 'eval_samples_per_second': 84.911, 'eval_steps_per_second': 2.705, 'epoch': 2.01}\n"
     ]
    },
    {
     "data": {
      "application/vnd.jupyter.widget-view+json": {
       "model_id": "aa5d250a9a2a4ac78193f848f559116b",
       "version_major": 2,
       "version_minor": 0
      },
      "text/plain": [
       "  0%|          | 0/48 [00:00<?, ?it/s]"
      ]
     },
     "metadata": {},
     "output_type": "display_data"
    },
    {
     "name": "stdout",
     "output_type": "stream",
     "text": [
      "{'eval_loss': 0.0027839569374918938, 'eval_precision': 0.9858308948097951, 'eval_recall': 0.990406931765434, 'eval_f1_score': 0.9881136153133684, 'eval_accuracy': 0.9994920998439362, 'eval_runtime': 17.739, 'eval_samples_per_second': 84.954, 'eval_steps_per_second': 2.706, 'epoch': 2.26}\n"
     ]
    },
    {
     "data": {
      "application/vnd.jupyter.widget-view+json": {
       "model_id": "252d04f7f37e4009a396f5c1faa8a607",
       "version_major": 2,
       "version_minor": 0
      },
      "text/plain": [
       "  0%|          | 0/48 [00:00<?, ?it/s]"
      ]
     },
     "metadata": {},
     "output_type": "display_data"
    },
    {
     "name": "stdout",
     "output_type": "stream",
     "text": [
      "{'eval_loss': 0.0025701303966343403, 'eval_precision': 0.9907163855794523, 'eval_recall': 0.9907163855794523, 'eval_f1_score': 0.9907163855794523, 'eval_accuracy': 0.9995013343922282, 'eval_runtime': 17.798, 'eval_samples_per_second': 84.672, 'eval_steps_per_second': 2.697, 'epoch': 2.51}\n",
      "{'loss': 0.0011, 'learning_rate': 4.687915006640107e-06, 'epoch': 2.66}\n"
     ]
    },
    {
     "data": {
      "application/vnd.jupyter.widget-view+json": {
       "model_id": "6e57932a213f49c79d1413cc98bab48a",
       "version_major": 2,
       "version_minor": 0
      },
      "text/plain": [
       "  0%|          | 0/48 [00:00<?, ?it/s]"
      ]
     },
     "metadata": {},
     "output_type": "display_data"
    },
    {
     "name": "stdout",
     "output_type": "stream",
     "text": [
      "{'eval_loss': 0.0030539745930582285, 'eval_precision': 0.9906947890818859, 'eval_recall': 0.9883954819743154, 'eval_f1_score': 0.989543799860584, 'eval_accuracy': 0.9993812852644313, 'eval_runtime': 17.736, 'eval_samples_per_second': 84.968, 'eval_steps_per_second': 2.706, 'epoch': 2.76}\n"
     ]
    },
    {
     "data": {
      "application/vnd.jupyter.widget-view+json": {
       "model_id": "53cccc884bb149f18647637ee3c03913",
       "version_major": 2,
       "version_minor": 0
      },
      "text/plain": [
       "  0%|          | 0/48 [00:00<?, ?it/s]"
      ]
     },
     "metadata": {},
     "output_type": "display_data"
    },
    {
     "name": "stdout",
     "output_type": "stream",
     "text": [
      "{'eval_loss': 0.004369289148598909, 'eval_precision': 0.9834634818557648, 'eval_recall': 0.9938109237196349, 'eval_f1_score': 0.9886101277512699, 'eval_accuracy': 0.9990765451707929, 'eval_runtime': 18.567, 'eval_samples_per_second': 81.166, 'eval_steps_per_second': 2.585, 'epoch': 3.01}\n"
     ]
    },
    {
     "data": {
      "application/vnd.jupyter.widget-view+json": {
       "model_id": "6c5f5e161033433f81c2736b4de5fe09",
       "version_major": 2,
       "version_minor": 0
      },
      "text/plain": [
       "  0%|          | 0/48 [00:00<?, ?it/s]"
      ]
     },
     "metadata": {},
     "output_type": "display_data"
    },
    {
     "name": "stdout",
     "output_type": "stream",
     "text": [
      "{'eval_loss': 0.0024113820400089025, 'eval_precision': 0.9879944589810682, 'eval_recall': 0.9931920160915984, 'eval_f1_score': 0.9905864197530864, 'eval_accuracy': 0.9995167253060483, 'eval_runtime': 18.2729, 'eval_samples_per_second': 82.472, 'eval_steps_per_second': 2.627, 'epoch': 3.26}\n",
      "{'loss': 0.001, 'learning_rate': 3.359893758300133e-06, 'epoch': 3.32}\n"
     ]
    },
    {
     "data": {
      "application/vnd.jupyter.widget-view+json": {
       "model_id": "738a9c91b5a24aedafcd454d997b041d",
       "version_major": 2,
       "version_minor": 0
      },
      "text/plain": [
       "  0%|          | 0/48 [00:00<?, ?it/s]"
      ]
     },
     "metadata": {},
     "output_type": "display_data"
    },
    {
     "name": "stdout",
     "output_type": "stream",
     "text": [
      "{'eval_loss': 0.0024876196403056383, 'eval_precision': 0.9896604938271605, 'eval_recall': 0.9922636546495436, 'eval_f1_score': 0.9909603646758867, 'eval_accuracy': 0.9994982562094642, 'eval_runtime': 17.832, 'eval_samples_per_second': 84.511, 'eval_steps_per_second': 2.692, 'epoch': 3.51}\n"
     ]
    },
    {
     "data": {
      "application/vnd.jupyter.widget-view+json": {
       "model_id": "cf49bbf6ee5e4ece9b5e167e75970175",
       "version_major": 2,
       "version_minor": 0
      },
      "text/plain": [
       "  0%|          | 0/48 [00:00<?, ?it/s]"
      ]
     },
     "metadata": {},
     "output_type": "display_data"
    },
    {
     "name": "stdout",
     "output_type": "stream",
     "text": [
      "{'eval_loss': 0.002331054536625743, 'eval_precision': 0.9924230709757229, 'eval_recall': 0.9930372891845892, 'eval_f1_score': 0.9927300850734726, 'eval_accuracy': 0.9995936798751489, 'eval_runtime': 18.17, 'eval_samples_per_second': 82.939, 'eval_steps_per_second': 2.642, 'epoch': 3.76}\n",
      "{'loss': 0.0009, 'learning_rate': 2.03187250996016e-06, 'epoch': 3.98}\n"
     ]
    },
    {
     "data": {
      "application/vnd.jupyter.widget-view+json": {
       "model_id": "e34381d754e64ccab5cb57d08144794b",
       "version_major": 2,
       "version_minor": 0
      },
      "text/plain": [
       "  0%|          | 0/48 [00:00<?, ?it/s]"
      ]
     },
     "metadata": {},
     "output_type": "display_data"
    },
    {
     "name": "stdout",
     "output_type": "stream",
     "text": [
      "{'eval_loss': 0.0023382992949336767, 'eval_precision': 0.9919703520691785, 'eval_recall': 0.993965650626644, 'eval_f1_score': 0.9929669989952856, 'eval_accuracy': 0.9995782889613288, 'eval_runtime': 17.789, 'eval_samples_per_second': 84.715, 'eval_steps_per_second': 2.698, 'epoch': 4.02}\n"
     ]
    },
    {
     "data": {
      "application/vnd.jupyter.widget-view+json": {
       "model_id": "c3d77d2d54ca4af69707aed5a87ca64c",
       "version_major": 2,
       "version_minor": 0
      },
      "text/plain": [
       "  0%|          | 0/48 [00:00<?, ?it/s]"
      ]
     },
     "metadata": {},
     "output_type": "display_data"
    },
    {
     "name": "stdout",
     "output_type": "stream",
     "text": [
      "{'eval_loss': 0.002372560789808631, 'eval_precision': 0.9913526868437307, 'eval_recall': 0.9933467429986075, 'eval_f1_score': 0.9923487131926734, 'eval_accuracy': 0.9995598198647446, 'eval_runtime': 17.79, 'eval_samples_per_second': 84.711, 'eval_steps_per_second': 2.698, 'epoch': 4.27}\n"
     ]
    },
    {
     "data": {
      "application/vnd.jupyter.widget-view+json": {
       "model_id": "ef7cab14ec4448669867d4db34bfa66d",
       "version_major": 2,
       "version_minor": 0
      },
      "text/plain": [
       "  0%|          | 0/48 [00:00<?, ?it/s]"
      ]
     },
     "metadata": {},
     "output_type": "display_data"
    },
    {
     "name": "stdout",
     "output_type": "stream",
     "text": [
      "{'eval_loss': 0.0023339290637522936, 'eval_precision': 0.990587872241938, 'eval_recall': 0.9933467429986075, 'eval_f1_score': 0.9919653893695921, 'eval_accuracy': 0.9995413507681605, 'eval_runtime': 17.743, 'eval_samples_per_second': 84.935, 'eval_steps_per_second': 2.705, 'epoch': 4.52}\n",
      "{'loss': 0.0005, 'learning_rate': 7.03851261620186e-07, 'epoch': 4.65}\n"
     ]
    },
    {
     "data": {
      "application/vnd.jupyter.widget-view+json": {
       "model_id": "da2be01e114b413c8a384ba876e98031",
       "version_major": 2,
       "version_minor": 0
      },
      "text/plain": [
       "  0%|          | 0/48 [00:00<?, ?it/s]"
      ]
     },
     "metadata": {},
     "output_type": "display_data"
    },
    {
     "name": "stdout",
     "output_type": "stream",
     "text": [
      "{'eval_loss': 0.0023359658662229776, 'eval_precision': 0.9919629057187017, 'eval_recall': 0.9930372891845892, 'eval_f1_score': 0.9924998066960489, 'eval_accuracy': 0.9995721325958007, 'eval_runtime': 17.752, 'eval_samples_per_second': 84.892, 'eval_steps_per_second': 2.704, 'epoch': 4.77}\n",
      "{'train_runtime': 1108.3384, 'train_samples_per_second': 27.176, 'train_steps_per_second': 3.397, 'train_loss': 0.012100038264852122, 'epoch': 5.0}\n"
     ]
    }
   ],
   "source": [
    "with mlflow.start_run(run_name=f\"{'Prueba con ' + str(train_max) if train_max else 'Entrenamiento'}\"):\n",
    "    mlflow.autolog()\n",
    "    trainer.train()\n",
    "    for param_name, param_value in ml_params.items():\n",
    "        mlflow.log_param(param_name, param_value)    "
   ]
  },
  {
   "cell_type": "code",
   "execution_count": 14,
   "metadata": {},
   "outputs": [
    {
     "data": {
      "text/plain": [
       "('..\\\\Models\\\\20240217-2115_escrituras_NER_5-epoch_3765-steps\\\\tokenizer_config.json',\n",
       " '..\\\\Models\\\\20240217-2115_escrituras_NER_5-epoch_3765-steps\\\\special_tokens_map.json',\n",
       " '..\\\\Models\\\\20240217-2115_escrituras_NER_5-epoch_3765-steps\\\\vocab.json',\n",
       " '..\\\\Models\\\\20240217-2115_escrituras_NER_5-epoch_3765-steps\\\\merges.txt',\n",
       " '..\\\\Models\\\\20240217-2115_escrituras_NER_5-epoch_3765-steps\\\\added_tokens.json',\n",
       " '..\\\\Models\\\\20240217-2115_escrituras_NER_5-epoch_3765-steps\\\\tokenizer.json')"
      ]
     },
     "execution_count": 14,
     "metadata": {},
     "output_type": "execute_result"
    }
   ],
   "source": [
    "# Guardar el modelo\n",
    "from datetime import datetime\n",
    "n_epochs = trainer.args.num_train_epochs\n",
    "g_steps = trainer.state.global_step\n",
    "fecha_hora = datetime.now().strftime(\"%Y%m%d-%H%M\")\n",
    "ruta_modelo_ajustado = os.path.join(MODELS_DIR,f\"{fecha_hora}_escrituras_NER_{n_epochs}-epoch_{g_steps}-steps\")\n",
    "trainer.save_model(ruta_modelo_ajustado)\n",
    "tokenizer.save_pretrained(ruta_modelo_ajustado)"
   ]
  }
 ],
 "metadata": {
  "kernelspec": {
   "display_name": ".venv",
   "language": "python",
   "name": "python3"
  },
  "language_info": {
   "codemirror_mode": {
    "name": "ipython",
    "version": 3
   },
   "file_extension": ".py",
   "mimetype": "text/x-python",
   "name": "python",
   "nbconvert_exporter": "python",
   "pygments_lexer": "ipython3",
   "version": "3.11.3"
  }
 },
 "nbformat": 4,
 "nbformat_minor": 2
}
