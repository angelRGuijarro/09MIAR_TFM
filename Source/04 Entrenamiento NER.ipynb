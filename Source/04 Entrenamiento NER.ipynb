{
 "cells": [
  {
   "cell_type": "code",
   "execution_count": 1,
   "metadata": {},
   "outputs": [],
   "source": [
    "import os\n",
    "from globals import TRAINING_DIR,MODELS_DIR, DATA_DIR, id2label,label2id\n",
    "import mlflow\n",
    "from datasets import load_dataset\n",
    "import requests\n",
    "from transformers import (\n",
    "    AutoModelForTokenClassification,\n",
    "    AutoTokenizer,\n",
    "    DataCollatorForTokenClassification,\n",
    "    TrainingArguments,\n",
    "    Trainer)\n",
    "from pprint import PrettyPrinter\n",
    "import numpy as np\n",
    "import evaluate\n",
    "from metrics.evaluar_metricas import evaluar_metricas_NER\n",
    "from seqeval.metrics import f1_score, precision_score, recall_score, accuracy_score"
   ]
  },
  {
   "cell_type": "markdown",
   "metadata": {},
   "source": [
    "Definición de variables globales, parámetros de entrenamiento y MLflow"
   ]
  },
  {
   "cell_type": "code",
   "execution_count": 2,
   "metadata": {},
   "outputs": [],
   "source": [
    "# VARIABLES GLOBALES\n",
    "train_max = None # Número máximo de elementos para entrenamiento (para pruebas) None para ir en serio\n",
    "training_output_dir = os.path.join(TRAINING_DIR,\"NER\")\n",
    "# Defino una serie de variables que registraré en los entrenamientos de MLflow\n",
    "ml_params = {\n",
    "    'num_epochs': 5,\n",
    "    'lr' : 1e-5,\n",
    "    'eval_steps' : 0.05, \n",
    "    'eval_batch_size' : 32,\n",
    "    'label_all_tokens': True,\n",
    "    'model_name': os.path.join(MODELS_DIR,'PlanTL-GOB-ES','roberta-base-bne-capitel-ner-plus')\n",
    "}\n",
    "num_epochs = lr = eval_steps = save_steps = eval_batch_size = label_all_tokens = model_name = 0\n",
    "for key, value in ml_params.items():\n",
    "    assert not globals()[key] is None, f'La variable global {key} debe estar definida'    \n",
    "    globals()[key] = value\n",
    "\n",
    "pp = PrettyPrinter(width=150)"
   ]
  },
  {
   "cell_type": "markdown",
   "metadata": {},
   "source": [
    "Carga del conjunto de datos "
   ]
  },
  {
   "cell_type": "code",
   "execution_count": 3,
   "metadata": {},
   "outputs": [],
   "source": [
    "main_dataset = load_dataset(os.path.join(DATA_DIR,'Escrituras'), 'NER',trust_remote_code=True)\n",
    "train_dataset = main_dataset['train']\n",
    "val_dataset = main_dataset['validation']\n",
    "if train_max:\n",
    "    train_dataset = train_dataset.select(range(train_max))\n",
    "    val_dataset = val_dataset.select(range(train_max))\n",
    "del main_dataset"
   ]
  },
  {
   "cell_type": "markdown",
   "metadata": {},
   "source": [
    "Comprobación de que el servidor MLflow está funcionando para las pruebas"
   ]
  },
  {
   "cell_type": "code",
   "execution_count": 4,
   "metadata": {},
   "outputs": [],
   "source": [
    "SERVIDOR_MLFLOW = 'http://localhost:5000'\n",
    "# Debo comprobar si está ejecutando el servidor MLflow, en otro caso se demora la ejecución y acaba dando un error\n",
    "def mlflow_en_ejecucion(url):\n",
    "    try:\n",
    "        response = requests.get(url)        \n",
    "        # Si el servidor está en ejecución, deberíamos recibir un código de estado HTTP 200\n",
    "        return response.status_code == 200\n",
    "    except requests.exceptions.ConnectionError:\n",
    "        # Si no se puede establecer una conexión, asumimos que el servidor no está en ejecución\n",
    "        return False\n",
    "    \n",
    "assert mlflow_en_ejecucion(SERVIDOR_MLFLOW), f\"El servidor MLflow ({SERVIDOR_MLFLOW}) no está en ejecución. Lance 'mlflow ui' desde el terminal.\""
   ]
  },
  {
   "cell_type": "markdown",
   "metadata": {},
   "source": [
    "### Iniciamos el entrenamiento"
   ]
  },
  {
   "cell_type": "code",
   "execution_count": null,
   "metadata": {},
   "outputs": [],
   "source": [
    "# Servidor de seguimiento\n",
    "mlflow.set_tracking_uri(SERVIDOR_MLFLOW)\n",
    "mlflow.autolog()\n",
    "mlflow.set_experiment(\"ENTRENAMIENTO Named Entity Recognition\")"
   ]
  },
  {
   "cell_type": "code",
   "execution_count": null,
   "metadata": {},
   "outputs": [],
   "source": [
    "model  = AutoModelForTokenClassification.from_pretrained(model_name, \n",
    "                                                         num_labels=9, ignore_mismatched_sizes=True,\n",
    "                                                         id2label=id2label,label2id=label2id)\n",
    "tokenizer = AutoTokenizer.from_pretrained(model_name)\n",
    "data_collator = DataCollatorForTokenClassification(tokenizer=tokenizer)"
   ]
  },
  {
   "cell_type": "code",
   "execution_count": null,
   "metadata": {},
   "outputs": [],
   "source": [
    "pp.pprint(train_dataset.info)"
   ]
  },
  {
   "cell_type": "code",
   "execution_count": null,
   "metadata": {},
   "outputs": [],
   "source": [
    "def f_preproceso(examples):\n",
    "    \"\"\"Función para generar los input_ids, atention_mask y otras características para el entrenamiento.\n",
    "        Realinea los 'ner_tags' que\"\"\"        \n",
    "    tokenized_inputs = tokenizer(examples[\"tokens\"], is_split_into_words=True, truncation=True, padding=True)\n",
    "    \n",
    "    ner_tags_ids = []\n",
    "    for i, tags in enumerate(examples[\"ner_tags\"]):\n",
    "        word_ids = tokenized_inputs.word_ids(batch_index=i)  # indica de qué palabra viene cada token\n",
    "        previous_word_idx = None\n",
    "        tag_ids = []\n",
    "        for word_idx in word_ids:  \n",
    "            # Tokens especiales van a -100 para ser ignorados por la función de pérdida.\n",
    "            if word_idx is None:\n",
    "                tag_ids.append(-100)\n",
    "            elif word_idx != previous_word_idx:  # Sólo se etiqueta la primera aparición de cada palabra\n",
    "                tag_ids.append(tags[word_idx])\n",
    "            else:\n",
    "                tag_ids.append(tags[word_idx] if ml_params['label_all_tokens'] else -100)\n",
    "                \n",
    "            previous_word_idx = word_idx\n",
    "        ner_tags_ids.append(tag_ids)\n",
    "\n",
    "    tokenized_inputs[\"labels\"] = ner_tags_ids\n",
    "    return tokenized_inputs"
   ]
  },
  {
   "cell_type": "code",
   "execution_count": null,
   "metadata": {},
   "outputs": [],
   "source": [
    "tokenized_train_dataset = train_dataset.map(f_preproceso, batched=True)\n",
    "tokenized_val_dataset = val_dataset.map(f_preproceso,batched=True)\n",
    "del train_dataset\n",
    "del val_dataset"
   ]
  },
  {
   "cell_type": "code",
   "execution_count": null,
   "metadata": {},
   "outputs": [],
   "source": [
    "pp.pprint(tokenized_train_dataset.info)"
   ]
  },
  {
   "cell_type": "code",
   "execution_count": null,
   "metadata": {},
   "outputs": [],
   "source": [
    "# Cargo la lista de etiquetas definidas en el dataset\n",
    "lista_etiquetas = tokenized_train_dataset.features['ner_tags'].feature.names\n",
    "# Y Cargo la métrica\n",
    "# seqeval = evaluate.load(\"seqeval\")\n",
    "\n",
    "# Función de evaluación \n",
    "def compute_metrics(eval_pred):\n",
    "    predictions, labels = eval_pred\n",
    "    predictions = np.argmax(predictions, axis=2)\n",
    "\n",
    "    predictions_list = [\n",
    "        [lista_etiquetas[p] for (p, l) in zip(prediction, label) if l != -100]\n",
    "            for prediction, label in zip(predictions, labels)\n",
    "    ]\n",
    "    true_labels = [\n",
    "        [lista_etiquetas[l] for (p, l) in zip(prediction, label) if l != -100]\n",
    "            for prediction, label in zip(predictions, labels)\n",
    "    ]\n",
    "\n",
    "    # results = seqeval.compute(predictions=predictions_list, references=true_labels)\n",
    "    # return {\n",
    "    #     \"precision\": results[\"overall_precision\"],\n",
    "    #     \"recall\": results[\"overall_recall\"],\n",
    "    #     \"f1_score\": results[\"overall_f1\"],\n",
    "    #     \"accuracy\": results[\"overall_accuracy\"],\n",
    "    # }\n",
    "    return {\n",
    "        \"precision\": precision_score(true_labels, predictions_list),\n",
    "        \"recall\":   recall_score(true_labels, predictions_list),\n",
    "        \"f1_score\": f1_score(true_labels, predictions_list),\n",
    "        \"accuracy\": accuracy_score(true_labels, predictions_list)\n",
    "    }"
   ]
  },
  {
   "cell_type": "markdown",
   "metadata": {},
   "source": [
    "Definición de los parámetros y el trainer"
   ]
  },
  {
   "cell_type": "code",
   "execution_count": null,
   "metadata": {},
   "outputs": [],
   "source": [
    "training_args = TrainingArguments(\n",
    "    output_dir=training_output_dir,\n",
    "    overwrite_output_dir=True,\n",
    "    do_train=True,\n",
    "    learning_rate=lr,\n",
    "    per_device_eval_batch_size=eval_batch_size,\n",
    "    num_train_epochs=num_epochs,\n",
    "    evaluation_strategy=\"steps\",\n",
    "    eval_steps=eval_steps,\n",
    "    save_strategy=\"steps\",\n",
    "    save_steps=eval_steps,    \n",
    "    load_best_model_at_end=True,\n",
    "    metric_for_best_model='f1_score'    \n",
    ")\n",
    "\n",
    "trainer = Trainer(\n",
    "    model=model,\n",
    "    args=training_args,\n",
    "    train_dataset=tokenized_train_dataset,\n",
    "    eval_dataset=tokenized_val_dataset,\n",
    "    tokenizer=tokenizer,\n",
    "    data_collator=data_collator,    \n",
    "    compute_metrics=compute_metrics\n",
    ")"
   ]
  },
  {
   "cell_type": "code",
   "execution_count": null,
   "metadata": {},
   "outputs": [],
   "source": [
    "with mlflow.start_run(run_name=f\"{'Prueba con ' + str(train_max) if train_max else 'Entrenamiento'}\"):\n",
    "    mlflow.autolog()\n",
    "    trainer.train()\n",
    "    for param_name, param_value in ml_params.items():\n",
    "        mlflow.log_param(param_name, param_value)    \n",
    "    "
   ]
  },
  {
   "cell_type": "code",
   "execution_count": null,
   "metadata": {},
   "outputs": [],
   "source": [
    "# Guardar el modelo\n",
    "from datetime import datetime\n",
    "n_epochs = trainer.args.num_train_epochs\n",
    "g_steps = trainer.state.global_step\n",
    "fecha_hora = datetime.now().strftime(\"%Y%m%d-%H%M\")\n",
    "ruta_modelo_ajustado = os.path.join(MODELS_DIR,f\"{fecha_hora}_escrituras_NER_{n_epochs}-epoch_{g_steps}-steps\")\n",
    "trainer.save_model(ruta_modelo_ajustado)\n",
    "tokenizer.save_pretrained(ruta_modelo_ajustado)"
   ]
  },
  {
   "cell_type": "markdown",
   "metadata": {},
   "source": [
    "Pruebas de resultados"
   ]
  },
  {
   "cell_type": "code",
   "execution_count": null,
   "metadata": {},
   "outputs": [],
   "source": [
    "from transformers import pipeline\n",
    "import torch\n",
    "\n",
    "id_test = 3\n",
    "model.eval()    \n",
    "test_dataset = load_dataset(os.path.join(DATA_DIR,'Escrituras'), 'NER',trust_remote_code=True, split=\"test\")\n",
    "\n",
    "# # Método 3\n",
    "consulta =  pipeline(\"ner\", model=model, tokenizer=tokenizer, \n",
    "                device=0 if torch.cuda.is_available() else None, batch_size=32)        \n",
    "predicciones = consulta(\" \".join(test_dataset['tokens'][id_test]))\n",
    "predicciones.sort(key=lambda x: x['index'])\n",
    "\n",
    "texto = \" \".join(test_dataset['tokens'][id_test])\n",
    "print(texto,'\\n')\n",
    "last_label = None\n",
    "palabra = None\n",
    "for p in predicciones:    \n",
    "    if p['entity'].startswith('B'):\n",
    "    # if last_label != p['entity']:\n",
    "        if palabra != None:            \n",
    "            print(last_label[2:], '\\t'+palabra)\n",
    "        palabra = texto[p['start']:p['end']]\n",
    "    else:\n",
    "        palabra += \" \" + texto[p['start']:p['end']]\n",
    "    last_label = p['entity']\n",
    "print(last_label[2:], '\\t'+palabra, '\\n')\n",
    "for p in predicciones:\n",
    "    print(p['entity'] ,p['word'], texto[p['start']:p['end']])"
   ]
  },
  {
   "cell_type": "markdown",
   "metadata": {},
   "source": [
    "## Validación final con el conjunto de test"
   ]
  },
  {
   "cell_type": "code",
   "execution_count": 6,
   "metadata": {},
   "outputs": [
    {
     "name": "stderr",
     "output_type": "stream",
     "text": [
      "2024/02/18 04:29:45 INFO mlflow.tracking.fluent: Autologging successfully enabled for sklearn.\n",
      "2024/02/18 04:29:45 INFO mlflow.tracking.fluent: Autologging successfully enabled for transformers.\n"
     ]
    },
    {
     "name": "stdout",
     "output_type": "stream",
     "text": [
      "..\\Models\\20240218-0307_escrituras_NER_5-epoch_3765-steps\n",
      "..\\Models\\20240218-0307_escrituras_NER_5-epoch_3765-steps\n",
      "\tf1: 0.9558318531675548\n"
     ]
    }
   ],
   "source": [
    "mlflow.set_tracking_uri(SERVIDOR_MLFLOW)\n",
    "mlflow.autolog()\n",
    "mlflow.set_experiment(\"ENTRENAMIENTO Named Entity Recognition\")\n",
    "\n",
    "try:\n",
    "    print(ruta_modelo_ajustado)\n",
    "except:\n",
    "    ruta_modelo_ajustado = os.path.join(MODELS_DIR,\"20240218-0307_escrituras_NER_5-epoch_3765-steps\")\n",
    "    \n",
    "test_dataset = load_dataset(os.path.join(DATA_DIR,'Escrituras'), 'NER',trust_remote_code=True, split=\"test\")\n",
    "with mlflow.start_run(run_name=\"Prueba de evaluación\",description=\"Predicciones con el modelo ajustado, usando dataset de test\"):\n",
    "    evaluar_metricas_NER(ruta_modelo_ajustado,test_dataset)"
   ]
  }
 ],
 "metadata": {
  "kernelspec": {
   "display_name": ".venv",
   "language": "python",
   "name": "python3"
  },
  "language_info": {
   "codemirror_mode": {
    "name": "ipython",
    "version": 3
   },
   "file_extension": ".py",
   "mimetype": "text/x-python",
   "name": "python",
   "nbconvert_exporter": "python",
   "pygments_lexer": "ipython3",
   "version": "3.11.3"
  }
 },
 "nbformat": 4,
 "nbformat_minor": 2
}
