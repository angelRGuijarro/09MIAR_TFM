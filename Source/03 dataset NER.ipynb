{
 "cells": [
  {
   "cell_type": "code",
   "execution_count": 1,
   "metadata": {},
   "outputs": [],
   "source": [
    "from globals import Tipo_Contenido\n",
    "import json\n",
    "import os\n",
    "import pandas as pd\n",
    "from globals import DATA_DIR"
   ]
  },
  {
   "cell_type": "code",
   "execution_count": null,
   "metadata": {},
   "outputs": [],
   "source": [
    "# Leer el dataset principal y convertirlo para NER\n",
    "dataset_json = os.path.join(DATA_DIR, \"dataset_QA_ANONIMIZADO.json\")\n",
    "\n",
    "# Leer el archivo json\n",
    "with open(dataset_json, 'r',encoding='utf-8') as archivo:\n",
    "    json_datos = pd.read_json(archivo)\n",
    "\n",
    "    # # Componer la nueva estructura para NER\n",
    "    # qa_dataset = pd.json_normalize(\n",
    "    #     data=datos_json_QA_anonimizado['data'],  \n",
    "    #     record_path=['paragraphs', 'qas'],  \n",
    "    #     meta=[['paragraphs', 'id'], ['paragraphs', 'context']]  # Meta datos para preservar    \n",
    "    # )\n",
    "\n",
    "\n",
    "    # # Generar splits\n",
    "    # train_data, test_data = train_test_split(datos_json_QA_anonimizado, test_size=0.2, random_state=42)\n",
    "    # train_data, vali_data = train_test_split(train_data, test_size=0.2, random_state=42)\n",
    "    # elementos = [('train', train_data), ('validation', vali_data), ('test', test_data)]\n",
    "    # for archivo, datos in elementos:\n",
    "    #     ruta_archivo = os.path.join(DATA_DIR, 'ESCRITURAS', f'QA_{archivo}.json')\n",
    "    #     with open(ruta_archivo,'w', encoding='utf-8') as f:\n",
    "    #         json.dump({'data':list(datos['data'])}, f, ensure_ascii=False)\n"
   ]
  }
 ],
 "metadata": {
  "kernelspec": {
   "display_name": ".venv",
   "language": "python",
   "name": "python3"
  },
  "language_info": {
   "codemirror_mode": {
    "name": "ipython",
    "version": 3
   },
   "file_extension": ".py",
   "mimetype": "text/x-python",
   "name": "python",
   "nbconvert_exporter": "python",
   "pygments_lexer": "ipython3",
   "version": "3.11.3"
  }
 },
 "nbformat": 4,
 "nbformat_minor": 2
}
